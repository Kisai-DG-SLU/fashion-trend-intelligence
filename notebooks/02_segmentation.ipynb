{
 "cells": [
  {
   "cell_type": "markdown",
   "id": "56643f4f-276d-4709-967d-bd24b130b176",
   "metadata": {},
   "source": [
    "# 👚 02_segmentation.ipynb — Pipeline de segmentation robuste et traçable\n",
    "\n",
    "Ce notebook traite la **segmentation vestimentaire** sur un lot d’images, en contrôlant à chaque étape la robustesse du pipeline (sécurité du token, accès aux fichiers, appel API, génération des masques et sauvegarde du résultat).  \n",
    "Chaque étape déclare un booléen OK/NOK, et un rapport final en synthétise l'état.  \n",
    "Les chemins sont adaptés à ta structure :  \n",
    "- Images sources : `../data/raw/images/`\n",
    "- Masques annotés : `../data/raw/annotations/`\n",
    "- Images/masques générés : `../data/processed/`"
   ]
  },
  {
   "cell_type": "code",
   "execution_count": 26,
   "id": "3f3403d9-c277-49a6-8e5d-a9dd30d41297",
   "metadata": {},
   "outputs": [
    {
     "name": "stdout",
     "output_type": "stream",
     "text": [
      "✅ Token Hugging Face chargé via utils.py : hf_pLHNzBu …\n"
     ]
    }
   ],
   "source": [
    "# 1. Chargement du token Hugging Face centralisé via utils.py\n",
    "\n",
    "import sys\n",
    "from pathlib import Path\n",
    "\n",
    "# Ajoute le dossier src/ au PYTHONPATH si ce n'est pas déjà fait\n",
    "sys.path.append(str((Path.cwd().parent / \"src\").resolve()))\n",
    "\n",
    "from fashion_trend_intelligence.utils import HF_TOKEN\n",
    "\n",
    "ok_token = HF_TOKEN is not None and HF_TOKEN.startswith(\"hf_\")\n",
    "if ok_token:\n",
    "    print(\"✅ Token Hugging Face chargé via utils.py :\", HF_TOKEN[:10], \"…\")\n",
    "else:\n",
    "    print(\"❌ Token HF absent ou mal formaté (ou .env introuvable).\")"
   ]
  },
  {
   "cell_type": "code",
   "execution_count": 27,
   "id": "f8c16a15-b529-4892-af22-17f09bff588f",
   "metadata": {},
   "outputs": [
    {
     "name": "stdout",
     "output_type": "stream",
     "text": [
      "✅ Toutes les dépendances principales sont installées.\n"
     ]
    }
   ],
   "source": [
    "# 2. Vérification des dépendances maîtresses\n",
    "ok_dependencies = True\n",
    "for pkg in ['requests', 'dotenv', 'numpy', 'matplotlib', 'PIL', 'huggingface_hub']:\n",
    "    try:\n",
    "        __import__(pkg)\n",
    "    except ImportError:\n",
    "        ok_dependencies = False\n",
    "        print(f\"❌ Package manquant : {pkg}\")\n",
    "if ok_dependencies:\n",
    "    print(\"✅ Toutes les dépendances principales sont installées.\")"
   ]
  },
  {
   "cell_type": "code",
   "execution_count": 28,
   "id": "6e0d8acf-2dce-44d9-b1b3-15702a53ecb5",
   "metadata": {},
   "outputs": [
    {
     "name": "stdout",
     "output_type": "stream",
     "text": [
      "✅ Image test chargée : ../data/raw/images/image_0.png\n",
      "✅ Masque annoté chargé : ../data/raw/annotations/mask_0.png\n"
     ]
    }
   ],
   "source": [
    "# 3. Chargement d’une image brute et de son masque d’annotation\n",
    "from PIL import Image\n",
    "\n",
    "img_dir = Path(\"../data/raw/images\")\n",
    "mask_dir = Path(\"../data/raw/annotations\")\n",
    "img_files = sorted(img_dir.glob(\"*.png\"))\n",
    "mask_files = sorted(mask_dir.glob(\"*.png\"))\n",
    "\n",
    "ok_img = ok_mask = False\n",
    "try:\n",
    "    img_path = img_files[0]  # Prendre la première image trouvée pour le test\n",
    "    mask_path = mask_files[0]  # Prendre le premier masque pour le test\n",
    "    img = Image.open(img_path)\n",
    "    mask = Image.open(mask_path)\n",
    "    ok_img = ok_mask = True\n",
    "    print(f\"✅ Image test chargée : {img_path}\")\n",
    "    print(f\"✅ Masque annoté chargé : {mask_path}\")\n",
    "except Exception as e:\n",
    "    print(f\"❌ Erreur chargement image ou masque : {e}\")\n",
    "    ok_img, ok_mask = False, False"
   ]
  },
  {
   "cell_type": "code",
   "execution_count": 29,
   "id": "46ae4a15-d459-4126-8a3a-fd1620f69719",
   "metadata": {},
   "outputs": [
    {
     "name": "stdout",
     "output_type": "stream",
     "text": [
      "✅ API appelée : code 200\n"
     ]
    }
   ],
   "source": [
    "# 4. Test API SegFormer sur l’image\n",
    "ok_api_call = False\n",
    "if ok_img and ok_token and ok_dependencies:\n",
    "    import requests\n",
    "    model_id = \"sayeed99/segformer_b3_clothes\"\n",
    "    with open(img_path, \"rb\") as f:\n",
    "        image_bytes = f.read()\n",
    "    headers = {\"Authorization\": f\"Bearer {HF_TOKEN}\", \"Content-Type\": \"image/png\"}\n",
    "    try:\n",
    "        resp = requests.post(\n",
    "            f\"https://api-inference.huggingface.co/models/{model_id}\",\n",
    "            headers=headers,\n",
    "            data=image_bytes,\n",
    "            timeout=20,\n",
    "        )\n",
    "        if resp.status_code in (200, 503):\n",
    "            ok_api_call = True\n",
    "            print(f\"✅ API appelée : code {resp.status_code}\")\n",
    "        else:\n",
    "            print(f\"❌ Code retour API inattendu : {resp.status_code} ({resp.text[:120]})\")\n",
    "    except Exception as e:\n",
    "        print(f\"❌ Erreur appel API : {e}\")\n",
    "else:\n",
    "    print(\"⏭️  Appel API sauté (pré-requis non validés).\")"
   ]
  },
  {
   "cell_type": "code",
   "execution_count": 30,
   "id": "3134e77b-49e7-4de3-8a0b-38f9a72e514a",
   "metadata": {},
   "outputs": [
    {
     "name": "stdout",
     "output_type": "stream",
     "text": [
      "✅ Masque prédictif sauvegardé dans ../data/processed/image_0_mask_pred.png\n"
     ]
    }
   ],
   "source": [
    "# 5. Décodage du résultat, création et sauvegarde du masque\n",
    "ok_processing = False\n",
    "out_dir = Path(\"../data/processed\")\n",
    "out_dir.mkdir(parents=True, exist_ok=True)\n",
    "result_mask_path = out_dir / f\"{img_path.stem}_mask_pred.png\"\n",
    "try:\n",
    "    if ok_api_call:\n",
    "        import base64\n",
    "        from io import BytesIO\n",
    "        output = resp.json()\n",
    "        first_mask = next((elt for elt in output if \"mask\" in elt), None)\n",
    "        if first_mask is not None:\n",
    "            mask_b64 = first_mask[\"mask\"]\n",
    "            mask_bytes = base64.b64decode(mask_b64)\n",
    "            mask_img = Image.open(BytesIO(mask_bytes))\n",
    "            mask_img.save(result_mask_path)\n",
    "            ok_processing = True\n",
    "            print(f\"✅ Masque prédictif sauvegardé dans {result_mask_path}\")\n",
    "        else:\n",
    "            print(\"❌ Aucun masque dans la réponse API.\")\n",
    "    else:\n",
    "        print(\"⏭️  Traitement du mask sauté (appel API non ok).\")\n",
    "except Exception as e:\n",
    "    ok_processing = False\n",
    "    print(f\"❌ Erreur lors du décodage/sauvegarde du masque : {e}\")"
   ]
  },
  {
   "cell_type": "code",
   "execution_count": 31,
   "id": "a2c7fcb7-c78b-4ed0-b798-87bad5a1f891",
   "metadata": {},
   "outputs": [
    {
     "name": "stdout",
     "output_type": "stream",
     "text": [
      "Premier masque décodé et affiché (base64 → PNG).\n"
     ]
    }
   ],
   "source": [
    "# Bonus : visualisation rapide d’un masque de segmentation\n",
    "import base64\n",
    "from PIL import Image\n",
    "from io import BytesIO\n",
    "\n",
    "mask_b64 = output[0][\"mask\"]\n",
    "mask_bytes = base64.b64decode(mask_b64)\n",
    "mask_img = Image.open(BytesIO(mask_bytes))\n",
    "mask_img.show()\n",
    "print(\"Premier masque décodé et affiché (base64 → PNG).\")"
   ]
  },
  {
   "cell_type": "code",
   "execution_count": 32,
   "id": "a245a947-d631-47a3-8976-2d74d7f02da5",
   "metadata": {},
   "outputs": [
    {
     "data": {
      "text/markdown": [
       "### Rapport validation segmentation<br/>\n",
       "\n",
       "- <span style='color:green; font-weight:bold'>✅ Token Hugging Face chargé</span><br/>\n",
       "- <span style='color:green; font-weight:bold'>✅ Dépendances installées</span><br/>\n",
       "- <span style='color:green; font-weight:bold'>✅ Image brute chargée</span><br/>\n",
       "- <span style='color:green; font-weight:bold'>✅ Masque annoté chargé</span><br/>\n",
       "- <span style='color:green; font-weight:bold'>✅ Appel API SegFormer (200/503)</span><br/>\n",
       "- <span style='color:green; font-weight:bold'>✅ Masque prédictif sauvegardé</span><br/>\n",
       "\n",
       "---\n",
       "<span style='color:green; font-weight:bold; font-size:1.1em;'>✅ Pipeline complet fonctionnel : images, masques, API et sauvegarde !</span>"
      ],
      "text/plain": [
       "<IPython.core.display.Markdown object>"
      ]
     },
     "metadata": {},
     "output_type": "display_data"
    }
   ],
   "source": [
    "# 6. Rapport global de validation du pipeline\n",
    "from IPython.display import display, Markdown\n",
    "\n",
    "tests = [\n",
    "    (\"Token Hugging Face chargé\", ok_token),\n",
    "    (\"Dépendances installées\", ok_dependencies),\n",
    "    (\"Image brute chargée\", ok_img),\n",
    "    (\"Masque annoté chargé\", ok_mask),\n",
    "    (\"Appel API SegFormer (200/503)\", ok_api_call),\n",
    "    (\"Masque prédictif sauvegardé\", ok_processing),\n",
    "]\n",
    "\n",
    "rapport_md = \"### Rapport validation segmentation<br/>\\n\\n\"\n",
    "for label, status in tests:\n",
    "    icon = \"✅\" if status else \"❌\"\n",
    "    color = \"green\" if status else \"red\"\n",
    "    rapport_md += f\"- <span style='color:{color}; font-weight:bold'>{icon} {label}</span><br/>\\n\"\n",
    "\n",
    "all_ok = all(status for _, status in tests)\n",
    "if all_ok:\n",
    "    rapport_md += \"\\n---\\n<span style='color:green; font-weight:bold; font-size:1.1em;'>✅ Pipeline complet fonctionnel : images, masques, API et sauvegarde !</span>\"\n",
    "else:\n",
    "    rapport_md += \"\\n---\\n<span style='color:red; font-weight:bold; font-size:1.1em;'>❌ Un ou plusieurs tests ont échoué. Voir ci-dessus.</span>\"\n",
    "\n",
    "display(Markdown(rapport_md))"
   ]
  },
  {
   "cell_type": "code",
   "execution_count": null,
   "id": "9a8bbc6a-bfa3-45e2-bff8-aeea578b776d",
   "metadata": {},
   "outputs": [],
   "source": []
  }
 ],
 "metadata": {
  "kernelspec": {
   "display_name": "Python 3 (ipykernel)",
   "language": "python",
   "name": "python3"
  },
  "language_info": {
   "codemirror_mode": {
    "name": "ipython",
    "version": 3
   },
   "file_extension": ".py",
   "mimetype": "text/x-python",
   "name": "python",
   "nbconvert_exporter": "python",
   "pygments_lexer": "ipython3",
   "version": "3.11.8"
  }
 },
 "nbformat": 4,
 "nbformat_minor": 5
}
