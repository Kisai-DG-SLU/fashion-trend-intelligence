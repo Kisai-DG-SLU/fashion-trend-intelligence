{
 "cells": [
  {
   "cell_type": "markdown",
   "id": "391b3de3-1c2f-424e-b736-8625af53f0aa",
   "metadata": {},
   "source": [
    "# 👕 Test d’inférence serverless : segmentation de vêtements sur images réelles\n",
    "\n",
    "Objectif de ce notebook :\n",
    "- **Prouver** que l’appel API au modèle SegFormer-clothes de Hugging Face fonctionne bien sur tes données locales (images d’influenceurs à segmenter).\n",
    "- Réaliser un test complet de la chaîne technique : lecture de l’image, transmission à l’API, décodage du résultat et premières visualisations de masques.\n",
    "- Afficher un signal visuel “tout est au vert” si l’inférence fonctionne, pour rassurer l’équipe et amorcer la suite : calcul de métriques et visualisation avancée.\n",
    "\n",
    "Ce diagnostic est clé pour valider que la configuration (token, dépendances, sécurité) est solide et que l’API répond bien sur tes images brutes."
   ]
  },
  {
   "cell_type": "code",
   "execution_count": 1,
   "id": "a61ac099-e77f-4ed5-9d7d-2748ce2dbba6",
   "metadata": {},
   "outputs": [
    {
     "ename": "AssertionError",
     "evalue": "❌ Le token HF n'a pas été trouvé dans l'environnement !",
     "output_type": "error",
     "traceback": [
      "\u001b[31m---------------------------------------------------------------------------\u001b[39m",
      "\u001b[31mAssertionError\u001b[39m                            Traceback (most recent call last)",
      "\u001b[36mCell\u001b[39m\u001b[36m \u001b[39m\u001b[32mIn[1]\u001b[39m\u001b[32m, line 9\u001b[39m\n\u001b[32m      7\u001b[39m load_dotenv(dotenv_path=dotenv_path)\n\u001b[32m      8\u001b[39m HF_TOKEN = os.environ.get(\u001b[33m\"\u001b[39m\u001b[33mHF_TOKEN\u001b[39m\u001b[33m\"\u001b[39m)\n\u001b[32m----> \u001b[39m\u001b[32m9\u001b[39m \u001b[38;5;28;01massert\u001b[39;00m HF_TOKEN, \u001b[33m\"\u001b[39m\u001b[33m❌ Le token HF n\u001b[39m\u001b[33m'\u001b[39m\u001b[33ma pas été trouvé dans l\u001b[39m\u001b[33m'\u001b[39m\u001b[33menvironnement !\u001b[39m\u001b[33m\"\u001b[39m\n\u001b[32m     10\u001b[39m model_id = \u001b[33m\"\u001b[39m\u001b[33msayeed99/segformer_b3_clothes\u001b[39m\u001b[33m\"\u001b[39m\n",
      "\u001b[31mAssertionError\u001b[39m: ❌ Le token HF n'a pas été trouvé dans l'environnement !"
     ]
    }
   ],
   "source": [
    "# Ce bloc s’assure que le .env est bien chargé et que le token HF est accessible partout\n",
    "import os\n",
    "from dotenv import load_dotenv\n",
    "from pathlib import Path\n",
    "\n",
    "dotenv_path = Path(\".env\")\n",
    "load_dotenv(dotenv_path=dotenv_path)\n",
    "HF_TOKEN = os.environ.get(\"HF_TOKEN\")\n",
    "assert HF_TOKEN, \"❌ Le token HF n'a pas été trouvé dans l'environnement !\"\n",
    "model_id = \"sayeed99/segformer_b3_clothes\""
   ]
  },
  {
   "cell_type": "code",
   "execution_count": 2,
   "id": "f8c16a15-b529-4892-af22-17f09bff588f",
   "metadata": {},
   "outputs": [
    {
     "ename": "FileNotFoundError",
     "evalue": "[Errno 2] No such file or directory: 'data/raw/images/image_0.png'",
     "output_type": "error",
     "traceback": [
      "\u001b[31m---------------------------------------------------------------------------\u001b[39m",
      "\u001b[31mFileNotFoundError\u001b[39m                         Traceback (most recent call last)",
      "\u001b[36mCell\u001b[39m\u001b[36m \u001b[39m\u001b[32mIn[2]\u001b[39m\u001b[32m, line 5\u001b[39m\n\u001b[32m      2\u001b[39m \u001b[38;5;28;01mfrom\u001b[39;00m\u001b[38;5;250m \u001b[39m\u001b[34;01mPIL\u001b[39;00m\u001b[38;5;250m \u001b[39m\u001b[38;5;28;01mimport\u001b[39;00m Image\n\u001b[32m      4\u001b[39m test_image_path = \u001b[33m\"\u001b[39m\u001b[33mdata/raw/images/image_0.png\u001b[39m\u001b[33m\"\u001b[39m\n\u001b[32m----> \u001b[39m\u001b[32m5\u001b[39m img = \u001b[43mImage\u001b[49m\u001b[43m.\u001b[49m\u001b[43mopen\u001b[49m\u001b[43m(\u001b[49m\u001b[43mtest_image_path\u001b[49m\u001b[43m)\u001b[49m\n\u001b[32m      6\u001b[39m img.show()\n\u001b[32m      7\u001b[39m \u001b[38;5;28mprint\u001b[39m(\u001b[33mf\u001b[39m\u001b[33m\"\u001b[39m\u001b[33m✅ Image test chargée : \u001b[39m\u001b[38;5;132;01m{\u001b[39;00mtest_image_path\u001b[38;5;132;01m}\u001b[39;00m\u001b[33m (taille : \u001b[39m\u001b[38;5;132;01m{\u001b[39;00mimg.size\u001b[38;5;132;01m}\u001b[39;00m\u001b[33m)\u001b[39m\u001b[33m\"\u001b[39m)\n",
      "\u001b[36mFile \u001b[39m\u001b[32m~/Documents/Formation_IA/Projet_2/fashion-trend-intelligence/.venv/lib/python3.11/site-packages/PIL/Image.py:3513\u001b[39m, in \u001b[36mopen\u001b[39m\u001b[34m(fp, mode, formats)\u001b[39m\n\u001b[32m   3511\u001b[39m \u001b[38;5;28;01mif\u001b[39;00m is_path(fp):\n\u001b[32m   3512\u001b[39m     filename = os.fspath(fp)\n\u001b[32m-> \u001b[39m\u001b[32m3513\u001b[39m     fp = \u001b[43mbuiltins\u001b[49m\u001b[43m.\u001b[49m\u001b[43mopen\u001b[49m\u001b[43m(\u001b[49m\u001b[43mfilename\u001b[49m\u001b[43m,\u001b[49m\u001b[43m \u001b[49m\u001b[33;43m\"\u001b[39;49m\u001b[33;43mrb\u001b[39;49m\u001b[33;43m\"\u001b[39;49m\u001b[43m)\u001b[49m\n\u001b[32m   3514\u001b[39m     exclusive_fp = \u001b[38;5;28;01mTrue\u001b[39;00m\n\u001b[32m   3515\u001b[39m \u001b[38;5;28;01melse\u001b[39;00m:\n",
      "\u001b[31mFileNotFoundError\u001b[39m: [Errno 2] No such file or directory: 'data/raw/images/image_0.png'"
     ]
    }
   ],
   "source": [
    "# On charge une image du dossier data et on l’affiche (utile pour la traçabilité)\n",
    "from PIL import Image\n",
    "\n",
    "test_image_path = \"data/raw/images/image_0.png\"\n",
    "img = Image.open(test_image_path)\n",
    "img.show()\n",
    "print(f\"✅ Image test chargée : {test_image_path} (taille : {img.size})\")"
   ]
  },
  {
   "cell_type": "code",
   "execution_count": 3,
   "id": "6e0d8acf-2dce-44d9-b1b3-15702a53ecb5",
   "metadata": {},
   "outputs": [
    {
     "ename": "FileNotFoundError",
     "evalue": "[Errno 2] No such file or directory: 'data/raw/images/image_0.png'",
     "output_type": "error",
     "traceback": [
      "\u001b[31m---------------------------------------------------------------------------\u001b[39m",
      "\u001b[31mFileNotFoundError\u001b[39m                         Traceback (most recent call last)",
      "\u001b[36mCell\u001b[39m\u001b[36m \u001b[39m\u001b[32mIn[3]\u001b[39m\u001b[32m, line 4\u001b[39m\n\u001b[32m      1\u001b[39m \u001b[38;5;66;03m# Envoi en POST (binaire), header adapté selon le type d’image\u001b[39;00m\n\u001b[32m      2\u001b[39m \u001b[38;5;28;01mimport\u001b[39;00m\u001b[38;5;250m \u001b[39m\u001b[34;01mrequests\u001b[39;00m\n\u001b[32m----> \u001b[39m\u001b[32m4\u001b[39m \u001b[38;5;28;01mwith\u001b[39;00m \u001b[38;5;28;43mopen\u001b[39;49m\u001b[43m(\u001b[49m\u001b[43mtest_image_path\u001b[49m\u001b[43m,\u001b[49m\u001b[43m \u001b[49m\u001b[33;43m\"\u001b[39;49m\u001b[33;43mrb\u001b[39;49m\u001b[33;43m\"\u001b[39;49m\u001b[43m)\u001b[49m \u001b[38;5;28;01mas\u001b[39;00m f:\n\u001b[32m      5\u001b[39m     image_bytes = f.read()\n\u001b[32m      7\u001b[39m headers = {\n\u001b[32m      8\u001b[39m     \u001b[33m\"\u001b[39m\u001b[33mAuthorization\u001b[39m\u001b[33m\"\u001b[39m: \u001b[33mf\u001b[39m\u001b[33m\"\u001b[39m\u001b[33mBearer \u001b[39m\u001b[38;5;132;01m{\u001b[39;00mHF_TOKEN\u001b[38;5;132;01m}\u001b[39;00m\u001b[33m\"\u001b[39m,\n\u001b[32m      9\u001b[39m     \u001b[33m\"\u001b[39m\u001b[33mContent-Type\u001b[39m\u001b[33m\"\u001b[39m: \u001b[33m\"\u001b[39m\u001b[33mimage/png\u001b[39m\u001b[33m\"\u001b[39m,\n\u001b[32m     10\u001b[39m }\n",
      "\u001b[36mFile \u001b[39m\u001b[32m~/Documents/Formation_IA/Projet_2/fashion-trend-intelligence/.venv/lib/python3.11/site-packages/IPython/core/interactiveshell.py:343\u001b[39m, in \u001b[36m_modified_open\u001b[39m\u001b[34m(file, *args, **kwargs)\u001b[39m\n\u001b[32m    336\u001b[39m \u001b[38;5;28;01mif\u001b[39;00m file \u001b[38;5;129;01min\u001b[39;00m {\u001b[32m0\u001b[39m, \u001b[32m1\u001b[39m, \u001b[32m2\u001b[39m}:\n\u001b[32m    337\u001b[39m     \u001b[38;5;28;01mraise\u001b[39;00m \u001b[38;5;167;01mValueError\u001b[39;00m(\n\u001b[32m    338\u001b[39m         \u001b[33mf\u001b[39m\u001b[33m\"\u001b[39m\u001b[33mIPython won\u001b[39m\u001b[33m'\u001b[39m\u001b[33mt let you open fd=\u001b[39m\u001b[38;5;132;01m{\u001b[39;00mfile\u001b[38;5;132;01m}\u001b[39;00m\u001b[33m by default \u001b[39m\u001b[33m\"\u001b[39m\n\u001b[32m    339\u001b[39m         \u001b[33m\"\u001b[39m\u001b[33mas it is likely to crash IPython. If you know what you are doing, \u001b[39m\u001b[33m\"\u001b[39m\n\u001b[32m    340\u001b[39m         \u001b[33m\"\u001b[39m\u001b[33myou can use builtins\u001b[39m\u001b[33m'\u001b[39m\u001b[33m open.\u001b[39m\u001b[33m\"\u001b[39m\n\u001b[32m    341\u001b[39m     )\n\u001b[32m--> \u001b[39m\u001b[32m343\u001b[39m \u001b[38;5;28;01mreturn\u001b[39;00m \u001b[43mio_open\u001b[49m\u001b[43m(\u001b[49m\u001b[43mfile\u001b[49m\u001b[43m,\u001b[49m\u001b[43m \u001b[49m\u001b[43m*\u001b[49m\u001b[43margs\u001b[49m\u001b[43m,\u001b[49m\u001b[43m \u001b[49m\u001b[43m*\u001b[49m\u001b[43m*\u001b[49m\u001b[43mkwargs\u001b[49m\u001b[43m)\u001b[49m\n",
      "\u001b[31mFileNotFoundError\u001b[39m: [Errno 2] No such file or directory: 'data/raw/images/image_0.png'"
     ]
    }
   ],
   "source": [
    "# Envoi en POST (binaire), header adapté selon le type d’image\n",
    "import requests\n",
    "\n",
    "with open(test_image_path, \"rb\") as f:\n",
    "    image_bytes = f.read()\n",
    "\n",
    "headers = {\n",
    "    \"Authorization\": f\"Bearer {HF_TOKEN}\",\n",
    "    \"Content-Type\": \"image/png\",\n",
    "}\n",
    "\n",
    "resp = requests.post(\n",
    "    f\"https://api-inference.huggingface.co/models/{model_id}\",\n",
    "    headers=headers,\n",
    "    data=image_bytes,\n",
    "    timeout=20,\n",
    ")\n",
    "\n",
    "print(f\"Statut retour : {resp.status_code}\")\n",
    "print(\"Extrait JSON brut :\", resp.content[:120], \"…\")"
   ]
  },
  {
   "cell_type": "code",
   "execution_count": 4,
   "id": "46ae4a15-d459-4126-8a3a-fd1620f69719",
   "metadata": {},
   "outputs": [
    {
     "name": "stdout",
     "output_type": "stream",
     "text": [
      "❌ Erreur lors du décodage de la réponse : name 'resp' is not defined\n"
     ]
    }
   ],
   "source": [
    "# Lecture et affichage du contenu de la réponse (labels, présence de masques)\n",
    "import json\n",
    "\n",
    "try:\n",
    "    output = resp.json()\n",
    "    labels_predits = [elt[\"label\"] for elt in output if \"label\" in elt]\n",
    "    print(\"Labels prédits :\", labels_predits)\n",
    "    masks = [elt for elt in output if \"mask\" in elt]\n",
    "    print(f\"Nb de masques (base64) reçus : {len(masks)}\")\n",
    "except Exception as e:\n",
    "    print(f\"❌ Erreur lors du décodage de la réponse : {e}\")"
   ]
  },
  {
   "cell_type": "code",
   "execution_count": 5,
   "id": "3134e77b-49e7-4de3-8a0b-38f9a72e514a",
   "metadata": {},
   "outputs": [
    {
     "ename": "NameError",
     "evalue": "name 'resp' is not defined",
     "output_type": "error",
     "traceback": [
      "\u001b[31m---------------------------------------------------------------------------\u001b[39m",
      "\u001b[31mNameError\u001b[39m                                 Traceback (most recent call last)",
      "\u001b[36mCell\u001b[39m\u001b[36m \u001b[39m\u001b[32mIn[5]\u001b[39m\u001b[32m, line 4\u001b[39m\n\u001b[32m      1\u001b[39m \u001b[38;5;66;03m# Affichage stylé d’un message de validation ou d’erreur\u001b[39;00m\n\u001b[32m      2\u001b[39m \u001b[38;5;28;01mfrom\u001b[39;00m\u001b[38;5;250m \u001b[39m\u001b[34;01mIPython\u001b[39;00m\u001b[34;01m.\u001b[39;00m\u001b[34;01mdisplay\u001b[39;00m\u001b[38;5;250m \u001b[39m\u001b[38;5;28;01mimport\u001b[39;00m display, Markdown\n\u001b[32m----> \u001b[39m\u001b[32m4\u001b[39m \u001b[38;5;28;01mif\u001b[39;00m \u001b[43mresp\u001b[49m.status_code \u001b[38;5;129;01min\u001b[39;00m (\u001b[32m200\u001b[39m, \u001b[32m503\u001b[39m) \u001b[38;5;129;01mand\u001b[39;00m \u001b[38;5;28misinstance\u001b[39m(output, \u001b[38;5;28mlist\u001b[39m) \u001b[38;5;129;01mand\u001b[39;00m \u001b[33m\"\u001b[39m\u001b[33mmask\u001b[39m\u001b[33m\"\u001b[39m \u001b[38;5;129;01min\u001b[39;00m output[\u001b[32m0\u001b[39m]:\n\u001b[32m      5\u001b[39m     display(Markdown(\u001b[33m\"\u001b[39m\u001b[33m<span style=\u001b[39m\u001b[33m'\u001b[39m\u001b[33mcolor:green;font-weight:bold;font-size:1.2em;\u001b[39m\u001b[33m'\u001b[39m\u001b[33m>✅ Tout est au vert&nbsp;: API, token, requête et format résultat OK !</span>\u001b[39m\u001b[33m\"\u001b[39m))\n\u001b[32m      6\u001b[39m \u001b[38;5;28;01melse\u001b[39;00m:\n",
      "\u001b[31mNameError\u001b[39m: name 'resp' is not defined"
     ]
    }
   ],
   "source": [
    "# Affichage stylé d’un message de validation ou d’erreur\n",
    "from IPython.display import display, Markdown\n",
    "\n",
    "if resp.status_code in (200, 503) and isinstance(output, list) and \"mask\" in output[0]:\n",
    "    display(Markdown(\"<span style='color:green;font-weight:bold;font-size:1.2em;'>✅ Tout est au vert&nbsp;: API, token, requête et format résultat OK !</span>\"))\n",
    "else:\n",
    "    display(Markdown(f\"<span style='color:red;font-weight:bold;'>❌ Erreur de validation API&nbsp;: code {resp.status_code}<br/>{resp.content[:200]}</span>\"))"
   ]
  },
  {
   "cell_type": "code",
   "execution_count": 6,
   "id": "a2c7fcb7-c78b-4ed0-b798-87bad5a1f891",
   "metadata": {},
   "outputs": [
    {
     "ename": "NameError",
     "evalue": "name 'output' is not defined",
     "output_type": "error",
     "traceback": [
      "\u001b[31m---------------------------------------------------------------------------\u001b[39m",
      "\u001b[31mNameError\u001b[39m                                 Traceback (most recent call last)",
      "\u001b[36mCell\u001b[39m\u001b[36m \u001b[39m\u001b[32mIn[6]\u001b[39m\u001b[32m, line 6\u001b[39m\n\u001b[32m      3\u001b[39m \u001b[38;5;28;01mfrom\u001b[39;00m\u001b[38;5;250m \u001b[39m\u001b[34;01mPIL\u001b[39;00m\u001b[38;5;250m \u001b[39m\u001b[38;5;28;01mimport\u001b[39;00m Image\n\u001b[32m      4\u001b[39m \u001b[38;5;28;01mfrom\u001b[39;00m\u001b[38;5;250m \u001b[39m\u001b[34;01mio\u001b[39;00m\u001b[38;5;250m \u001b[39m\u001b[38;5;28;01mimport\u001b[39;00m BytesIO\n\u001b[32m----> \u001b[39m\u001b[32m6\u001b[39m mask_b64 = \u001b[43moutput\u001b[49m[\u001b[32m0\u001b[39m][\u001b[33m\"\u001b[39m\u001b[33mmask\u001b[39m\u001b[33m\"\u001b[39m]\n\u001b[32m      7\u001b[39m mask_bytes = base64.b64decode(mask_b64)\n\u001b[32m      8\u001b[39m mask_img = Image.open(BytesIO(mask_bytes))\n",
      "\u001b[31mNameError\u001b[39m: name 'output' is not defined"
     ]
    }
   ],
   "source": [
    "# Bonus : visualisation rapide d’un masque de segmentation\n",
    "import base64\n",
    "from PIL import Image\n",
    "from io import BytesIO\n",
    "\n",
    "mask_b64 = output[0][\"mask\"]\n",
    "mask_bytes = base64.b64decode(mask_b64)\n",
    "mask_img = Image.open(BytesIO(mask_bytes))\n",
    "mask_img.show()\n",
    "print(\"Premier masque décodé et affiché (base64 → PNG).\")"
   ]
  }
 ],
 "metadata": {
  "kernelspec": {
   "display_name": "Python 3 (ipykernel)",
   "language": "python",
   "name": "python3"
  },
  "language_info": {
   "codemirror_mode": {
    "name": "ipython",
    "version": 3
   },
   "file_extension": ".py",
   "mimetype": "text/x-python",
   "name": "python",
   "nbconvert_exporter": "python",
   "pygments_lexer": "ipython3",
   "version": "3.11.8"
  }
 },
 "nbformat": 4,
 "nbformat_minor": 5
}
