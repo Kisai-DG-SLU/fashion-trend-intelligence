{
 "cells": [
  {
   "cell_type": "markdown",
   "id": "8f94cef0-351f-424d-92c1-d4991d840020",
   "metadata": {},
   "source": [
    "# Notebook 03 — Estimation du coût API pour le projet Fashion Trend Intelligence\n",
    "\n",
    "## Présentation du notebook\n",
    "\n",
    "Ce notebook a pour but d’estimer le coût financier de l’utilisation de l’API serverless Hugging Face pour la segmentation vestimentaire sur un volume industriel d’images.  \n",
    "Il répond aux attentes fixées dans le brief :\n",
    "\n",
    "- Simuler la facturation pour **500 000 images par jour** pendant **30 jours** (soit 15 millions d’images traitées).\n",
    "- Réaliser le calcul selon la grille tarifaire officielle Hugging Face (tarif au 1 000 appels ou à l’appel, selon documentation courante).\n",
    "- Fournir une estimation détaillée (prix pour 1 jour, 1 mois, prix unitaire).\n",
    "- Permettre l’ajustement du code pour d’autres scénarios (volume ou durée différents).\n",
    "- Rendre le coût directement exploitable dans la négociation client, la planification projet et la soutenance orale.\n",
    "\n",
    "> **Points d'attention** :  \n",
    "> - Les tarifs API peuvent évoluer — toujours vérifier sur la page officielle Hugging Face.\n",
    "> - Certaines offres (PRO, entreprise, endpoint dédié) peuvent changer le prix unitaire à la baisse à partir d'un certain volume.  \n",
    "> - Il convient d’intégrer une **marge de sécurité** ou de vérifier si du batch/optimisation est possible.\n",
    "\n",
    "---"
   ]
  },
  {
   "cell_type": "code",
   "execution_count": 2,
   "id": "7eb19a63-1692-474e-a040-184dff676eef",
   "metadata": {},
   "outputs": [
    {
     "name": "stdout",
     "output_type": "stream",
     "text": [
      "Coût estimé : 2,500 $ / jour  |  75,000 $ pour 30 jours\n"
     ]
    },
    {
     "data": {
      "text/html": [
       "<div>\n",
       "<style scoped>\n",
       "    .dataframe tbody tr th:only-of-type {\n",
       "        vertical-align: middle;\n",
       "    }\n",
       "\n",
       "    .dataframe tbody tr th {\n",
       "        vertical-align: top;\n",
       "    }\n",
       "\n",
       "    .dataframe thead th {\n",
       "        text-align: right;\n",
       "    }\n",
       "</style>\n",
       "<table border=\"1\" class=\"dataframe\">\n",
       "  <thead>\n",
       "    <tr style=\"text-align: right;\">\n",
       "      <th></th>\n",
       "      <th>Durée</th>\n",
       "      <th>Volume images</th>\n",
       "      <th>Coût estimé ($)</th>\n",
       "    </tr>\n",
       "  </thead>\n",
       "  <tbody>\n",
       "    <tr>\n",
       "      <th>0</th>\n",
       "      <td>1 jour</td>\n",
       "      <td>500000</td>\n",
       "      <td>2500.0</td>\n",
       "    </tr>\n",
       "    <tr>\n",
       "      <th>1</th>\n",
       "      <td>30 jours</td>\n",
       "      <td>15000000</td>\n",
       "      <td>75000.0</td>\n",
       "    </tr>\n",
       "  </tbody>\n",
       "</table>\n",
       "</div>"
      ],
      "text/plain": [
       "      Durée  Volume images  Coût estimé ($)\n",
       "0    1 jour         500000           2500.0\n",
       "1  30 jours       15000000          75000.0"
      ]
     },
     "metadata": {},
     "output_type": "display_data"
    }
   ],
   "source": [
    "import pandas as pd\n",
    "\n",
    "# ---- Paramètres ----\n",
    "images_per_day = 500_000\n",
    "days = 30\n",
    "price_per_1000 = 5.0          # $ / 1 000 images (adapter si tarif change)\n",
    "\n",
    "# ---- Calculs ----\n",
    "price_per_img = price_per_1000 / 1_000\n",
    "total_imgs = images_per_day * days\n",
    "daily_cost = images_per_day * price_per_img\n",
    "total_cost = total_imgs * price_per_img\n",
    "\n",
    "# ---- Affichage ----\n",
    "print(f\"Coût estimé : {daily_cost:,.0f} $ / jour  |  {total_cost:,.0f} $ pour {days} jours\")\n",
    "\n",
    "df_cost = pd.DataFrame(\n",
    "    {\"Durée\": [\"1 jour\", f\"{days} jours\"],\n",
    "     \"Volume images\": [images_per_day, total_imgs],\n",
    "     \"Coût estimé ($)\": [daily_cost, total_cost]}\n",
    ")\n",
    "display(df_cost)\n"
   ]
  },
  {
   "cell_type": "markdown",
   "id": "e9ff4eb3-1ad2-4abd-8485-a6b1329c31b1",
   "metadata": {},
   "source": [
    "---\n",
    "\n",
    "## Synthèse et interprétation\n",
    "\n",
    "- **Coût pour 500 000 images / jour** : 2500 dollars par jour.\n",
    "- **Coût projet pour 30 jours** : 75000 dollars au total (~64000 euros).\n",
    "- Cette estimation permet d’anticiper les besoins budgétaires et de discuter des options avec le client ou la direction : volume, fréquence, négociation d’un endpoint dédié ou d’une offre sur-mesure si besoin.\n",
    "- Il est recommandé d’ajouter une marge de sécurité de 5–10 % pour anticiper des fluctuations éventuelles du volume ou d’éventuels traitements supplémentaires.\n",
    "\n",
    "> **À retenir** :  \n",
    "> Ce calcul donne une **base fiable** pour la projection financière et facilite la prise de décisions stratégiques (validation d’un POC, développement d’une solution scalable, comparaison avec d’autres prestataires, etc.)."
   ]
  },
  {
   "cell_type": "code",
   "execution_count": null,
   "id": "687a213c-ea7b-4640-8b9a-a6936594d42e",
   "metadata": {},
   "outputs": [],
   "source": []
  }
 ],
 "metadata": {
  "kernelspec": {
   "display_name": "Python 3 (ipykernel)",
   "language": "python",
   "name": "python3"
  },
  "language_info": {
   "codemirror_mode": {
    "name": "ipython",
    "version": 3
   },
   "file_extension": ".py",
   "mimetype": "text/x-python",
   "name": "python",
   "nbconvert_exporter": "python",
   "pygments_lexer": "ipython3",
   "version": "3.11.8"
  }
 },
 "nbformat": 4,
 "nbformat_minor": 5
}
