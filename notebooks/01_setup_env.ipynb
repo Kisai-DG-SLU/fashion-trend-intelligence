{
 "cells": [
  {
   "cell_type": "markdown",
   "id": "044814f2-d839-4e7d-a86a-6299b3310c0a",
   "metadata": {},
   "source": [
    "# ⚙️ Configuration de l’environnement Python & validation du token Hugging Face\n",
    "\n",
    "Bienvenue !  \n",
    "Ce notebook vérifie que :\n",
    "- Ton environnement technique est prêt.\n",
    "- Ton token Hugging Face est sécurisé et fonctionnel.\n",
    "- L’accès à l’API serverless de segmentation est possible.\n",
    "\n",
    "Chaque étape affiche une coche verte ou une croix rouge selon le résultat."
   ]
  },
  {
   "cell_type": "code",
   "execution_count": 4,
   "id": "7e425a94-f43d-4f25-9a03-e0063927fa57",
   "metadata": {},
   "outputs": [
    {
     "name": "stdout",
     "output_type": "stream",
     "text": [
      "Version Python : 3.11.8 (main, Jul 17 2025, 14:26:09) [Clang 17.0.0 (clang-1700.0.13.5)]\n",
      "Répertoire courant : /Users/daminou/Documents/Formation_IA/Projet_2/fashion-trend-intelligence/notebooks\n"
     ]
    }
   ],
   "source": [
    "# 1. Version de Python et répertoire d’exécution\n",
    "import sys\n",
    "import os\n",
    "print(f\"Version Python : {sys.version}\")\n",
    "print(f\"Répertoire courant : {os.getcwd()}\")"
   ]
  },
  {
   "cell_type": "code",
   "execution_count": 5,
   "id": "2b7b2f47-0ad5-473b-a85f-3f8077feb65e",
   "metadata": {},
   "outputs": [
    {
     "name": "stdout",
     "output_type": "stream",
     "text": [
      "✅ Environnement Poetry actif (/Users/daminou/Documents/Formation_IA/Projet_2/fashion-trend-intelligence/.venv)\n"
     ]
    }
   ],
   "source": [
    "# 2. Vérification de l’environnement virtuel Poetry\n",
    "venv = os.environ.get('VIRTUAL_ENV')\n",
    "ok_env = bool(venv)\n",
    "if ok_env:\n",
    "    print(f\"✅ Environnement Poetry actif ({venv})\")\n",
    "else:\n",
    "    print(\"❌ Poetry n'est pas activé : pense à lancer 'poetry shell' dans le terminal.\")"
   ]
  },
  {
   "cell_type": "code",
   "execution_count": 6,
   "id": "44402a00-8d1f-493d-9306-441ab588f1b7",
   "metadata": {},
   "outputs": [
    {
     "name": "stdout",
     "output_type": "stream",
     "text": [
      "✅ Toutes les dépendances principales sont installées.\n"
     ]
    }
   ],
   "source": [
    "# 3. Dépendances principales installées\n",
    "ok_dependencies = True\n",
    "for pkg in ['requests', 'dotenv', 'numpy', 'matplotlib', 'PIL', 'huggingface_hub']:\n",
    "    try:\n",
    "        __import__(pkg)\n",
    "    except ImportError:\n",
    "        ok_dependencies = False\n",
    "        print(f\"❌ Package manquant : {pkg}\")\n",
    "if ok_dependencies:\n",
    "    print(\"✅ Toutes les dépendances principales sont installées.\")"
   ]
  },
  {
   "cell_type": "code",
   "execution_count": 7,
   "id": "71a080bf-6f38-4045-9852-fbcf9db10202",
   "metadata": {},
   "outputs": [
    {
     "name": "stdout",
     "output_type": "stream",
     "text": [
      "✅ Fichier .env trouvé dans : /Users/daminou/Documents/Formation_IA/Projet_2/fashion-trend-intelligence/.env\n",
      "✅ Token Hugging Face chargé et au bon format.\n"
     ]
    }
   ],
   "source": [
    "# 4. Présence et chargement du fichier .env (où se trouve le token)\n",
    "from pathlib import Path\n",
    "from dotenv import load_dotenv\n",
    "\n",
    "def locate_dotenv():\n",
    "    path = Path.cwd()\n",
    "    while path != path.parent:\n",
    "        candidate = path / \".env\"\n",
    "        if candidate.exists():\n",
    "            return candidate\n",
    "        path = path.parent\n",
    "    raise FileNotFoundError(\".env introuvable dans les dossiers parents\")\n",
    "\n",
    "try:\n",
    "    dotenv_path = locate_dotenv()\n",
    "    ok_envfile = True\n",
    "    print(f\"✅ Fichier .env trouvé dans : {dotenv_path}\")\n",
    "except Exception as e:\n",
    "    ok_envfile = False\n",
    "    print(f\"❌ {e}\")\n",
    "\n",
    "ok_token = False\n",
    "import os\n",
    "if ok_envfile:\n",
    "    load_dotenv(dotenv_path=dotenv_path)\n",
    "    HF_TOKEN = os.environ.get(\"HF_TOKEN\")\n",
    "    if HF_TOKEN and HF_TOKEN.startswith(\"hf_\"):\n",
    "        ok_token = True\n",
    "        print(\"✅ Token Hugging Face chargé et au bon format.\")\n",
    "    else:\n",
    "        print(\"❌ Token Hugging Face absent ou mal formaté dans .env.\")"
   ]
  },
  {
   "cell_type": "code",
   "execution_count": 8,
   "id": "61d5297f-bbfd-4a33-8d52-c3cc9bd2304e",
   "metadata": {},
   "outputs": [
    {
     "name": "stdout",
     "output_type": "stream",
     "text": [
      "✅ L'API Hugging Face et le token fonctionnent !\n"
     ]
    }
   ],
   "source": [
    "# 5. Test d’appel API Hugging Face\n",
    "ok_api_call = False\n",
    "if ok_token:\n",
    "    import requests\n",
    "    model_id = \"sayeed99/segformer_b3_clothes\"\n",
    "    url = f\"https://api-inference.huggingface.co/models/{model_id}\"\n",
    "    try:\n",
    "        resp = requests.get(url, headers={\"Authorization\": f\"Bearer {HF_TOKEN}\"}, timeout=10)\n",
    "        if resp.status_code == 200:\n",
    "            ok_api_call = True\n",
    "            print(\"✅ L'API Hugging Face et le token fonctionnent !\")\n",
    "        elif resp.status_code in (401, 403):\n",
    "            print(\"❌ Mauvais token ou permissions insuffisantes.\")\n",
    "        else:\n",
    "            print(f\"⚠️ Code retour inattendu ({resp.status_code}) : {resp.text[:100]}…\")\n",
    "    except Exception as e:\n",
    "        print(f\"❌ Erreur lors du test API : {e}\")\n",
    "else:\n",
    "    print(\"⏭️  Test API sauté puisque le token n’est pas valide.\")"
   ]
  },
  {
   "cell_type": "code",
   "execution_count": 10,
   "id": "7e350c2c-10a5-4621-8660-a1f13a81a1e9",
   "metadata": {},
   "outputs": [
    {
     "data": {
      "text/markdown": [
       "### État du setup<br/>\n",
       "\n",
       "- <span style='color:green; font-weight:bold'>✅ Présence du .env</span><br/>\n",
       "- <span style='color:green; font-weight:bold'>✅ Token Hugging Face chargé</span><br/>\n",
       "- <span style='color:green; font-weight:bold'>✅ Dépendances principales installées</span><br/>\n",
       "- <span style='color:green; font-weight:bold'>✅ Test API Hugging Face (statut 200)</span><br/>\n",
       "\n",
       "---\n",
       "<span style='color:green; font-weight:bold; font-size:1.1em;'>✅ Tout est prêt ! 🎉</span>"
      ],
      "text/plain": [
       "<IPython.core.display.Markdown object>"
      ]
     },
     "metadata": {},
     "output_type": "display_data"
    }
   ],
   "source": [
    "# 6. Rapport global de validation – tout en un clin d’œil\n",
    "from IPython.display import display, Markdown\n",
    "\n",
    "tests = [\n",
    "    (\"Présence du .env\", ok_envfile),\n",
    "    (\"Token Hugging Face chargé\", ok_token),\n",
    "    (\"Dépendances principales installées\", ok_dependencies),\n",
    "    (\"Test API Hugging Face (statut 200)\", ok_api_call),\n",
    "]\n",
    "\n",
    "rapport_md = \"### État du setup<br/>\\n\\n\"\n",
    "for label, status in tests:\n",
    "    icon = \"✅\" if status else \"❌\"\n",
    "    color = \"green\" if status else \"red\"\n",
    "    rapport_md += f\"- <span style='color:{color}; font-weight:bold'>{icon} {label}</span><br/>\\n\"\n",
    "\n",
    "all_ok = all(status for _, status in tests)\n",
    "if all_ok:\n",
    "    rapport_md += \"\\n---\\n<span style='color:green; font-weight:bold; font-size:1.1em;'>✅ Tout est prêt ! 🎉</span>\"\n",
    "else:\n",
    "    rapport_md += \"\\n---\\n<span style='color:red; font-weight:bold; font-size:1.1em;'>❌ Au moins une étape clé a échoué. Voir en rouge ci-dessus.</span>\"\n",
    "\n",
    "display(Markdown(rapport_md))\n"
   ]
  }
 ],
 "metadata": {
  "kernelspec": {
   "display_name": "Python 3 (ipykernel)",
   "language": "python",
   "name": "python3"
  },
  "language_info": {
   "codemirror_mode": {
    "name": "ipython",
    "version": 3
   },
   "file_extension": ".py",
   "mimetype": "text/x-python",
   "name": "python",
   "nbconvert_exporter": "python",
   "pygments_lexer": "ipython3",
   "version": "3.11.8"
  }
 },
 "nbformat": 4,
 "nbformat_minor": 5
}
