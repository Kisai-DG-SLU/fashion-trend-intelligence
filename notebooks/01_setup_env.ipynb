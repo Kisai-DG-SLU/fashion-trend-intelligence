{
 "cells": [
  {
   "cell_type": "markdown",
   "id": "1d07d532-e7d9-4217-be0a-afbe11179e25",
   "metadata": {},
   "source": [
    "# 00 – Setup de l’environnement\n",
    "\n",
    "Ce notebook installe les dépendances, charge le token Hugging Face depuis `.env` et teste un appel simple d’inférence."
   ]
  },
  {
   "cell_type": "code",
   "execution_count": 1,
   "id": "7e425a94-f43d-4f25-9a03-e0063927fa57",
   "metadata": {},
   "outputs": [
    {
     "name": "stdout",
     "output_type": "stream",
     "text": [
      "Requirement already satisfied: python-dotenv in /Users/daminou/Documents/Formation_IA/Projet_2/fashion-trend-intelligence/.venv/lib/python3.13/site-packages (1.1.1)\n",
      "Requirement already satisfied: huggingface-hub in /Users/daminou/Documents/Formation_IA/Projet_2/fashion-trend-intelligence/.venv/lib/python3.13/site-packages (0.33.4)\n",
      "Requirement already satisfied: filelock in /Users/daminou/Documents/Formation_IA/Projet_2/fashion-trend-intelligence/.venv/lib/python3.13/site-packages (from huggingface-hub) (3.18.0)\n",
      "Requirement already satisfied: fsspec>=2023.5.0 in /Users/daminou/Documents/Formation_IA/Projet_2/fashion-trend-intelligence/.venv/lib/python3.13/site-packages (from huggingface-hub) (2025.3.0)\n",
      "Requirement already satisfied: packaging>=20.9 in /Users/daminou/Documents/Formation_IA/Projet_2/fashion-trend-intelligence/.venv/lib/python3.13/site-packages (from huggingface-hub) (25.0)\n",
      "Requirement already satisfied: pyyaml>=5.1 in /Users/daminou/Documents/Formation_IA/Projet_2/fashion-trend-intelligence/.venv/lib/python3.13/site-packages (from huggingface-hub) (6.0.2)\n",
      "Requirement already satisfied: requests in /Users/daminou/Documents/Formation_IA/Projet_2/fashion-trend-intelligence/.venv/lib/python3.13/site-packages (from huggingface-hub) (2.32.4)\n",
      "Requirement already satisfied: tqdm>=4.42.1 in /Users/daminou/Documents/Formation_IA/Projet_2/fashion-trend-intelligence/.venv/lib/python3.13/site-packages (from huggingface-hub) (4.67.1)\n",
      "Requirement already satisfied: typing-extensions>=3.7.4.3 in /Users/daminou/Documents/Formation_IA/Projet_2/fashion-trend-intelligence/.venv/lib/python3.13/site-packages (from huggingface-hub) (4.14.1)\n",
      "Requirement already satisfied: hf-xet<2.0.0,>=1.1.2 in /Users/daminou/Documents/Formation_IA/Projet_2/fashion-trend-intelligence/.venv/lib/python3.13/site-packages (from huggingface-hub) (1.1.5)\n",
      "Requirement already satisfied: charset_normalizer<4,>=2 in /Users/daminou/Documents/Formation_IA/Projet_2/fashion-trend-intelligence/.venv/lib/python3.13/site-packages (from requests->huggingface-hub) (3.4.2)\n",
      "Requirement already satisfied: idna<4,>=2.5 in /Users/daminou/Documents/Formation_IA/Projet_2/fashion-trend-intelligence/.venv/lib/python3.13/site-packages (from requests->huggingface-hub) (3.10)\n",
      "Requirement already satisfied: urllib3<3,>=1.21.1 in /Users/daminou/Documents/Formation_IA/Projet_2/fashion-trend-intelligence/.venv/lib/python3.13/site-packages (from requests->huggingface-hub) (2.5.0)\n",
      "Requirement already satisfied: certifi>=2017.4.17 in /Users/daminou/Documents/Formation_IA/Projet_2/fashion-trend-intelligence/.venv/lib/python3.13/site-packages (from requests->huggingface-hub) (2025.7.14)\n"
     ]
    }
   ],
   "source": [
    "!pip install python-dotenv huggingface-hub"
   ]
  },
  {
   "cell_type": "code",
   "execution_count": 2,
   "id": "2b7b2f47-0ad5-473b-a85f-3f8077feb65e",
   "metadata": {},
   "outputs": [
    {
     "name": "stdout",
     "output_type": "stream",
     "text": [
      "HF_TOKEN détecté : ✅\n"
     ]
    }
   ],
   "source": [
    "# Charge le .env à la racine du projet\n",
    "from dotenv import load_dotenv\n",
    "import os\n",
    "\n",
    "load_dotenv()  # lit .env\n",
    "HF_TOKEN = os.getenv(\"HF_TOKEN\")\n",
    "print(\"HF_TOKEN détecté :\", \"✅\" if HF_TOKEN else \"❌\")"
   ]
  },
  {
   "cell_type": "code",
   "execution_count": 3,
   "id": "44402a00-8d1f-493d-9306-441ab588f1b7",
   "metadata": {},
   "outputs": [
    {
     "name": "stdout",
     "output_type": "stream",
     "text": [
      "⚙️  config.py renvoie bien un token.\n"
     ]
    }
   ],
   "source": [
    "# S’assure que le module config renvoie bien HF_TOKEN\n",
    "from fashion_trend_intelligence.config import HF_TOKEN as TOKEN_VIA_CONFIG\n",
    "\n",
    "assert TOKEN_VIA_CONFIG is not None, \"Le token n’a pas été chargé via config.py\"\n",
    "print(\"⚙️  config.py renvoie bien un token.\")"
   ]
  },
  {
   "cell_type": "code",
   "execution_count": 6,
   "id": "71a080bf-6f38-4045-9852-fbcf9db10202",
   "metadata": {},
   "outputs": [
    {
     "name": "stdout",
     "output_type": "stream",
     "text": [
      "❌ Sans auth — Status: 401\n",
      "   Corps: {\"error\":\"Invalid username or password.\"}\n",
      "🔑 Avec auth — Status: 404\n",
      "   Corps: Not Found\n",
      "GET (no auth) — Status: 401\n",
      "   Corps: <!doctype html>\n",
      "<html class=\"\">\n",
      "\t<head>\n",
      "\t\t<meta charset=\"utf-8\" />\n",
      "\t\t<meta name=\"viewport\" content=\"width=device-width, initial-scale=1.0, user-scalable=no\" />\n",
      "\t\t<meta name=\"description\" content=\"We’re on a journey to advance and democratize artificial intelligence through open source and open scien\n"
     ]
    }
   ],
   "source": [
    "import os, requests\n",
    "from dotenv import load_dotenv\n",
    "\n",
    "# Charge le token\n",
    "load_dotenv()\n",
    "token = os.getenv(\"HF_TOKEN\")\n",
    "assert token, \"Le token n'est pas chargé.\"\n",
    "\n",
    "# URL et payload\n",
    "url = \"https://api-inference.huggingface.co/models/gpt2\"\n",
    "payload = {\"inputs\": \"Hello, world!\"}\n",
    "\n",
    "# Headers\n",
    "headers = {\n",
    "    \"Authorization\": f\"Bearer {token}\",\n",
    "    \"Content-Type\": \"application/json\"\n",
    "}\n",
    "\n",
    "# 1) Test sans auth\n",
    "resp_no_auth = requests.post(url, json=payload)\n",
    "print(\"❌ Sans auth — Status:\", resp_no_auth.status_code)\n",
    "print(\"   Corps:\", resp_no_auth.text[:200])\n",
    "\n",
    "# 2) Test avec auth\n",
    "resp_auth = requests.post(url, headers=headers, json=payload)\n",
    "print(\"🔑 Avec auth — Status:\", resp_auth.status_code)\n",
    "print(\"   Corps:\", resp_auth.text[:200])\n",
    "\n",
    "# 3) GET de la carte du modèle (metadata)\n",
    "resp_get = requests.get(url)\n",
    "print(\"GET (no auth) — Status:\", resp_get.status_code)\n",
    "print(\"   Corps:\", resp_get.text[:300])"
   ]
  },
  {
   "cell_type": "code",
   "execution_count": 7,
   "id": "61d5297f-bbfd-4a33-8d52-c3cc9bd2304e",
   "metadata": {},
   "outputs": [
    {
     "name": "stdout",
     "output_type": "stream",
     "text": [
      "🔍 Utilisateur associé au token : damienguesdon (id: 687812a37b88aa153642ec5e)\n",
      "✅ Modèle trouvé : openai-community/gpt2, dernière mise à jour le 2024-02-19 10:57:45+00:00\n"
     ]
    }
   ],
   "source": [
    "from dotenv import load_dotenv\n",
    "import os\n",
    "from huggingface_hub import HfApi\n",
    "\n",
    "# 1) Charger le token\n",
    "load_dotenv()\n",
    "token = os.getenv(\"HF_TOKEN\")\n",
    "assert token, \"Le token n'est pas chargé.\"\n",
    "\n",
    "# 2) Vérifier l’identité associée au token\n",
    "api = HfApi()\n",
    "user = api.whoami(token=token)\n",
    "print(\"🔍 Utilisateur associé au token :\", user.get(\"name\"), f\"(id: {user.get('id')})\")\n",
    "\n",
    "# 3) Récupérer les métadonnées d’un modèle public\n",
    "model_id = \"gpt2\"\n",
    "info = api.model_info(model_id, token=token)\n",
    "print(f\"✅ Modèle trouvé : {info.modelId}, dernière mise à jour le {info.lastModified}\")"
   ]
  }
 ],
 "metadata": {
  "kernelspec": {
   "display_name": "Python 3 (ipykernel)",
   "language": "python",
   "name": "python3"
  },
  "language_info": {
   "codemirror_mode": {
    "name": "ipython",
    "version": 3
   },
   "file_extension": ".py",
   "mimetype": "text/x-python",
   "name": "python",
   "nbconvert_exporter": "python",
   "pygments_lexer": "ipython3",
   "version": "3.11.8"
  }
 },
 "nbformat": 4,
 "nbformat_minor": 5
}
